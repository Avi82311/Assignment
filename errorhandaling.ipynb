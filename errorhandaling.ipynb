{
 "cells": [
  {
   "cell_type": "markdown",
   "metadata": {},
   "source": [
    "Division with Error Handling: Write a program that takes two numbers as input and divides the first number by the second. O Use try and except to handle the division by zero error."
   ]
  },
  {
   "cell_type": "code",
   "execution_count": null,
   "metadata": {},
   "outputs": [],
   "source": [
    "num1 = float(input(\"Enter the first number: \"))\n",
    "num2 = float(input(\"Enter the second number: \"))\n",
    "\n",
    "try:\n",
    "    result = num1 / num2\n",
    "    print(f\"The result of {num1} divided by {num2} is: {result}\")\n",
    "\n",
    "except ZeroDivisionError:\n",
    "    print(\"Error: Division by zero is not allowed.\")"
   ]
  },
  {
   "cell_type": "markdown",
   "metadata": {},
   "source": [
    "Integer Input Validation: Create a program that asks the user to input an integer. ○ Use try, except, and else to handle invalid input."
   ]
  },
  {
   "cell_type": "code",
   "execution_count": null,
   "metadata": {},
   "outputs": [],
   "source": [
    "try:\n",
    "    user_input = int(input(\"Please enter an integer: \"))\n",
    "except ValueError:\n",
    "    print(\"Error: That's not a valid integer.\")\n",
    "else:\n",
    "    print(f\"Thank you! You entered the integer: {user_input}\")\n"
   ]
  },
  {
   "cell_type": "markdown",
   "metadata": {},
   "source": [
    "File Not Found Error Handling: Write a script that: ○ Opens a file named unknown.txt. ○ Handles the FileNotFoundError gracefully and prints an appropriate message."
   ]
  },
  {
   "cell_type": "code",
   "execution_count": null,
   "metadata": {},
   "outputs": [],
   "source": [
    "try:\n",
    "    with open(\"unknown.txt\", \"r\") as file:\n",
    "        content = file.read()\n",
    "        print(\"File content:\")\n",
    "        print(content)\n",
    "\n",
    "except FileNotFoundError:\n",
    "    print(\"Error: The file 'unknown.txt' was not found.\")\n"
   ]
  }
 ],
 "metadata": {
  "language_info": {
   "name": "python"
  }
 },
 "nbformat": 4,
 "nbformat_minor": 2
}
