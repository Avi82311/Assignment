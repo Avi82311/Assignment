{
 "cells": [
  {
   "cell_type": "markdown",
   "metadata": {},
   "source": [
    "File Creation and Writing: Write a Python script to: ○ Create a file named data.txt. ○ Write the numbers from 1 to 10 (each on a new line) to the file. ○ Read the file and print its contents."
   ]
  },
  {
   "cell_type": "code",
   "execution_count": null,
   "metadata": {},
   "outputs": [],
   "source": [
    "file = open('data.txt','w')\n",
    "for i in range(1,11):\n",
    "    file.write(f'{i}\\n')\n",
    "file = open('data.txt','r')\n",
    "contents = file.read()\n",
    "print(contents)"
   ]
  },
  {
   "cell_type": "markdown",
   "metadata": {},
   "source": [
    "Word Count in File: Write a program that reads a file named sample.txt, counts the number of words in it, and prints the result"
   ]
  },
  {
   "cell_type": "code",
   "execution_count": null,
   "metadata": {},
   "outputs": [],
   "source": [
    "def count_words_in_file(filename):\n",
    "    try:\n",
    "        with open(filename, 'r') as file:\n",
    "            content = file.read()\n",
    "            words = content.split()\n",
    "            word_count = len(words)\n",
    "            return word_count\n",
    "    except FileNotFoundError:\n",
    "        return \"File not found. Please make sure the file exists.\"\n",
    "\n",
    "# Example usage:\n",
    "filename = 'sample.txt' \n",
    "word_count = count_words_in_file(filename)\n",
    "print(f\"The number of words in {filename} is: {word_count}\")"
   ]
  }
 ],
 "metadata": {
  "language_info": {
   "name": "python"
  }
 },
 "nbformat": 4,
 "nbformat_minor": 2
}
