{
 "cells": [
  {
   "cell_type": "markdown",
   "metadata": {},
   "source": [
    "Write a program that asks the user to enter a number and checks whether the number is even or odd."
   ]
  },
  {
   "cell_type": "code",
   "execution_count": null,
   "metadata": {},
   "outputs": [],
   "source": [
    "num = int(input('Enter a number:'))\n",
    "if num % 2 == 0:\n",
    "    print(f'{num} is an even  number')\n",
    "else:\n",
    "    print(f'{num} is an odd number')\n",
    " "
   ]
  },
  {
   "cell_type": "markdown",
   "metadata": {},
   "source": [
    "Write a program that asks the user to enter a number and checks whether it is positive, negative, or zero."
   ]
  },
  {
   "cell_type": "code",
   "execution_count": null,
   "metadata": {},
   "outputs": [],
   "source": [
    "num = int(input('enter a number:'))\n",
    "if num > 0:\n",
    "    print('The number  is positive')\n",
    "elif num < 0:\n",
    "    print('The number is negative')\n",
    "else:\n",
    "    print('The number is zero')\n"
   ]
  },
  {
   "cell_type": "markdown",
   "metadata": {},
   "source": [
    "Write a program that asks the user to enter their age and checks if they are eligible to vote (18 years or older)"
   ]
  },
  {
   "cell_type": "code",
   "execution_count": null,
   "metadata": {},
   "outputs": [],
   "source": [
    "age = int(input('Enter your age:'))\n",
    "if age < 18:\n",
    "    print('The person is not eligible to vote')\n",
    "elif age > 18: \n",
    "    print('The person is  eligible to vote')"
   ]
  },
  {
   "cell_type": "markdown",
   "metadata": {},
   "source": [
    "Write a program that takes the lengths of three sides of a triangle as input and determines if the triangle is:\n",
    "\n",
    "○ Equilateral (all sides are equal)\n",
    "○ Isosceles (two sides are equal)\n",
    "○ Scalene (all sides are different)"
   ]
  },
  {
   "cell_type": "code",
   "execution_count": null,
   "metadata": {},
   "outputs": [],
   "source": [
    "num1 = float(input('enter a first side:'))\n",
    "num2 = float(input('enter a  second side:'))\n",
    "num3 = float(input('enter a third side:'))\n",
    "if num1 == num2 == num3:\n",
    "    print('The triangle is equilateral')\n",
    "if num1 == num2 or num2==num3 or num3==num1:\n",
    "    print('Two sides are equal')\n",
    "elif num1 != num2 != num3:\n",
    "    print('All sides are different')"
   ]
  },
  {
   "cell_type": "markdown",
   "metadata": {},
   "source": [
    "Write a program that asks the user to enter a password and checks if it matches a predefined password (e.g., \"Python123\")."
   ]
  },
  {
   "cell_type": "code",
   "execution_count": null,
   "metadata": {},
   "outputs": [],
   "source": [
    "predefined_password = 'Praaxqzit'\n",
    "entered_password = input('Enter a password')\n",
    "if entered_password == predefined_password:\n",
    "    print('Password matched, Access granted!')\n",
    "else:\n",
    "    print('Password doesnt match, Access denied')"
   ]
  }
 ],
 "metadata": {
  "language_info": {
   "name": "python"
  }
 },
 "nbformat": 4,
 "nbformat_minor": 2
}
